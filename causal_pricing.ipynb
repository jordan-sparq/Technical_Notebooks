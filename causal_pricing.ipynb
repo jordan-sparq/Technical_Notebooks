{
 "cells": [
  {
   "cell_type": "markdown",
   "metadata": {},
   "source": [
    "# Causal Pricing Model"
   ]
  },
  {
   "cell_type": "markdown",
   "metadata": {},
   "source": [
    "Data: We simulate data, but you can replace it with your actual dataset.\\\n",
    "Treatment Model: Predicts the price using the covariates. This is your first nuisance model.\\\n",
    "Outcome Model: Predicts demand using the covariates. This is your second nuisance model.\\\n",
    "Residual Calculation: Subtract predicted demand from actual demand and predicted price from actual price.\\\n",
    "Causal Impact: We estimate the causal impact by regressing the residuals of demand on the residuals of price."
   ]
  },
  {
   "cell_type": "code",
   "execution_count": 22,
   "metadata": {},
   "outputs": [],
   "source": [
    "import numpy as np\n",
    "import pandas as pd\n",
    "from sklearn.ensemble import RandomForestRegressor\n",
    "from sklearn.model_selection import train_test_split\n",
    "\n",
    "# Step 1: Data Simulation Function\n",
    "def simulate_data(n_samples=1000, seed=42, true_causal_effect=-0.5):\n",
    "    np.random.seed(seed)\n",
    "    \n",
    "    # Simulate price as before\n",
    "    price = np.random.normal(10, 2, n_samples)\n",
    "    \n",
    "    # Simulate covariates\n",
    "    advertising_spend = np.random.uniform(500, 1000, n_samples)  # Advertising spend\n",
    "    holiday_season = np.random.choice([0, 1], n_samples)  # Binary indicator for holiday season\n",
    "    competitor_price = np.random.normal(9, 2, n_samples)  # Competitor's price\n",
    "    \n",
    "    # Introduce a causal effect of price on demand and incorporate covariates into demand generation\n",
    "    epsilon = np.random.normal(0, 1, n_samples)  # Random noise\n",
    "    demand = (20 + true_causal_effect * price \n",
    "              + 0.01 * advertising_spend \n",
    "              + 5 * holiday_season \n",
    "              - 0.3 * competitor_price \n",
    "              + epsilon)\n",
    "    \n",
    "    # Create and return the DataFrame\n",
    "    data = pd.DataFrame({\n",
    "        'demand': demand,\n",
    "        'price': price,\n",
    "        'advertising_spend': advertising_spend,\n",
    "        'holiday_season': holiday_season,\n",
    "        'competitor_price': competitor_price\n",
    "    })\n",
    "    \n",
    "    return data\n",
    "\n",
    "# Step 2: Train Models for Treatment (Price) and Outcome (Demand)\n",
    "def train_models(X_train, y_train_demand, y_train_price):\n",
    "    # Treatment model (Price prediction)\n",
    "    treatment_model = RandomForestRegressor(n_estimators=100, random_state=42)\n",
    "    treatment_model.fit(X_train, y_train_price)\n",
    "    \n",
    "    # Outcome model (Demand prediction)\n",
    "    outcome_model = RandomForestRegressor(n_estimators=100, random_state=42)\n",
    "    outcome_model.fit(X_train, y_train_demand)\n",
    "    \n",
    "    return treatment_model, outcome_model\n",
    "\n",
    "# Step 3: Predict Treatment and Outcome, and Compute Residuals\n",
    "def compute_residuals(treatment_model, outcome_model, X_train, y_train_demand, y_train_price):\n",
    "    # Predict price and demand\n",
    "    predicted_price = treatment_model.predict(X_train)\n",
    "    predicted_demand = outcome_model.predict(X_train)\n",
    "    \n",
    "    # Calculate residuals\n",
    "    residuals_demand = y_train_demand - predicted_demand\n",
    "    residuals_price = y_train_price - predicted_price\n",
    "    \n",
    "    return residuals_demand, residuals_price\n",
    "\n",
    "# Step 4: Estimate Causal Impact Using a Machine Learning Model\n",
    "def estimate_causal_impact(residuals_price, residuals_demand):\n",
    "    # Random Forest model for causal impact estimation\n",
    "    effect_model = LinearRegression()\n",
    "    effect_model.fit(residuals_price.values.reshape(-1, 1), residuals_demand)\n",
    "        \n",
    "    causal_impact = effect_model.coef_[0]\n",
    "\n",
    "    return causal_impact\n"
   ]
  },
  {
   "cell_type": "code",
   "execution_count": 23,
   "metadata": {},
   "outputs": [
    {
     "name": "stdout",
     "output_type": "stream",
     "text": [
      "The estimated causal impact of price on demand is: -0.4839\n"
     ]
    }
   ],
   "source": [
    "# Simulate the data\n",
    "data = simulate_data(n_samples=1000, seed=42, true_causal_effect=-0.5)\n",
    "\n",
    "# Split the data into features (X) and target variables (y)\n",
    "X = data[['advertising_spend', 'holiday_season', 'competitor_price']]  # Covariates\n",
    "y_demand = data['demand']\n",
    "y_price = data['price']\n",
    "\n",
    "# Split into training and testing sets\n",
    "X_train, X_test, y_train_demand, y_test_demand, y_train_price, y_test_price = train_test_split(\n",
    "    X, y_demand, y_price, test_size=0.2, random_state=42)\n",
    "\n",
    "# Train treatment (price) and outcome (demand) models\n",
    "treatment_model, outcome_model = train_models(X_train, y_train_demand, y_train_price)\n",
    "\n",
    "# Compute residuals for both demand and price\n",
    "residuals_demand, residuals_price = compute_residuals(treatment_model, outcome_model, X_train, y_train_demand, y_train_price)\n",
    "\n",
    "# Estimate the causal impact of price on demand\n",
    "causal_impact = estimate_causal_impact(residuals_price, residuals_demand)\n",
    "\n",
    "print(f\"The estimated causal impact of price on demand is: {causal_impact:.4f}\")"
   ]
  }
 ],
 "metadata": {
  "kernelspec": {
   "display_name": "env_gal",
   "language": "python",
   "name": "env_gal"
  },
  "language_info": {
   "codemirror_mode": {
    "name": "ipython",
    "version": 3
   },
   "file_extension": ".py",
   "mimetype": "text/x-python",
   "name": "python",
   "nbconvert_exporter": "python",
   "pygments_lexer": "ipython3",
   "version": "3.10.8"
  }
 },
 "nbformat": 4,
 "nbformat_minor": 2
}
