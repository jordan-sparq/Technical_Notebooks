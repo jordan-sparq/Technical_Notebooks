{
 "cells": [
  {
   "cell_type": "markdown",
   "metadata": {},
   "source": [
    "# Causal Pricing Model"
   ]
  },
  {
   "cell_type": "markdown",
   "metadata": {},
   "source": [
    "Data: We simulate data, but you can replace it with your actual dataset.\\\n",
    "Treatment Model: Predicts the price using the covariates. This is your first nuisance model.\\\n",
    "Outcome Model: Predicts demand using the covariates. This is your second nuisance model.\\\n",
    "Residual Calculation: Subtract predicted demand from actual demand and predicted price from actual price.\\\n",
    "Causal Impact: We estimate the causal impact by regressing the residuals of demand on the residuals of price."
   ]
  },
  {
   "cell_type": "code",
   "execution_count": 60,
   "metadata": {},
   "outputs": [],
   "source": [
    "import numpy as np\n",
    "import pandas as pd\n",
    "from sklearn.ensemble import RandomForestRegressor\n",
    "from sklearn.model_selection import train_test_split\n",
    "\n",
    "# Step 1: Data Simulation Function\n",
    "def simulate_data(n_samples=1000, seed=42, true_causal_effect=-0.5):\n",
    "    np.random.seed(seed)\n",
    "    \n",
    "    # Simulate price as before\n",
    "    price = np.random.normal(10, 2, n_samples)\n",
    "    \n",
    "    # Simulate covariates\n",
    "    advertising_spend = np.random.uniform(500, 1000, n_samples)  # Advertising spend\n",
    "    holiday_season = np.random.choice([0, 1], n_samples)  # Binary indicator for holiday season\n",
    "    competitor_price = np.random.normal(9, 2, n_samples)  # Competitor's price\n",
    "    \n",
    "    # Introduce a causal effect of price on demand and incorporate covariates into demand generation\n",
    "    epsilon = np.random.normal(0, 1, n_samples)  # Random noise\n",
    "    demand = (20 + true_causal_effect * price \n",
    "              + 0.01 * advertising_spend \n",
    "              + 5 * holiday_season \n",
    "              - 0.3 * competitor_price \n",
    "              + epsilon)\n",
    "    \n",
    "    # Create and return the DataFrame\n",
    "    data = pd.DataFrame({\n",
    "        'demand': demand,\n",
    "        'price': price,\n",
    "        'advertising_spend': advertising_spend,\n",
    "        'holiday_season': holiday_season,\n",
    "        'competitor_price': competitor_price\n",
    "    })\n",
    "    \n",
    "    return data\n",
    "\n",
    "# Step 2: Train Models for Treatment (Price) and Outcome (Demand)\n",
    "def train_models(X_train, y_train_demand, y_train_price):\n",
    "    # Treatment model (Price prediction)\n",
    "    treatment_model = RandomForestRegressor(n_estimators=100, random_state=42)\n",
    "    treatment_model.fit(X_train, y_train_price)\n",
    "    \n",
    "    # Outcome model (Demand prediction)\n",
    "    outcome_model = RandomForestRegressor(n_estimators=100, random_state=42)\n",
    "    outcome_model.fit(X_train, y_train_demand)\n",
    "    \n",
    "    return treatment_model, outcome_model\n",
    "\n",
    "# Step 3: Predict Treatment and Outcome, and Compute Residuals\n",
    "def compute_residuals(treatment_model, outcome_model, X_train, y_train_demand, y_train_price):\n",
    "    # Predict price and demand\n",
    "    predicted_price = treatment_model.predict(X_train)\n",
    "    predicted_demand = outcome_model.predict(X_train)\n",
    "    \n",
    "    # Calculate residuals\n",
    "    residuals_demand = y_train_demand - predicted_demand\n",
    "    residuals_price = y_train_price - predicted_price\n",
    "\n",
    "    return residuals_demand, residuals_price\n",
    "\n",
    "# Step 4: Estimate Causal Impact Using a Machine Learning Model\n",
    "def estimate_causal_impact(residuals_price, residuals_demand):\n",
    "    # Random Forest model for causal impact estimation\n",
    "    effect_model = LinearRegression()\n",
    "    effect_model.fit(residuals_price.values.reshape(-1, 1), residuals_demand)\n",
    "        \n",
    "    causal_impact = effect_model.coef_[0]\n",
    "\n",
    "    return causal_impact\n",
    "\n",
    "def validate_model(model, X, y):\n",
    "    scores = cross_val_score(model, X, y, cv=5, scoring='neg_mean_squared_error')\n",
    "    rmse = np.sqrt(-scores.mean())\n",
    "    return rmse"
   ]
  },
  {
   "cell_type": "code",
   "execution_count": 61,
   "metadata": {},
   "outputs": [
    {
     "name": "stdout",
     "output_type": "stream",
     "text": [
      "The estimated causal impact of price on demand is: -0.4772\n",
      "Treatment model RMSE: 2.1462\n",
      "Outcome model RMSE: 1.5555\n"
     ]
    }
   ],
   "source": [
    "# Simulate the data\n",
    "data = simulate_data(n_samples=10000, seed=42, true_causal_effect=-0.5)\n",
    "\n",
    "# Split the data into features (X) and target variables (y)\n",
    "X = data[['advertising_spend', 'holiday_season', 'competitor_price']]  # Covariates\n",
    "y_demand = data['demand']\n",
    "y_price = data['price']\n",
    "\n",
    "# Split into training and testing sets\n",
    "X_train, X_test, y_train_demand, y_test_demand, y_train_price, y_test_price = train_test_split(\n",
    "    X, y_demand, y_price, test_size=0.2, random_state=42)\n",
    "\n",
    "# Train treatment (price) and outcome (demand) models\n",
    "treatment_model, outcome_model = train_models(X_train, y_train_demand, y_train_price)\n",
    "\n",
    "# Compute residuals for both demand and price\n",
    "residuals_demand, residuals_price = compute_residuals(treatment_model, outcome_model, X_train, y_train_demand, y_train_price)\n",
    "\n",
    "# Estimate the causal impact of price on demand\n",
    "causal_impact = estimate_causal_impact(residuals_price, residuals_demand)\n",
    "\n",
    "print(f\"The estimated causal impact of price on demand is: {causal_impact:.4f}\")\n",
    "\n",
    "treatment_rmse = validate_model(treatment_model, X_train, y_train_price)\n",
    "outcome_rmse = validate_model(outcome_model, X_train, y_train_demand)\n",
    "\n",
    "print(f\"Treatment model RMSE: {treatment_rmse:.4f}\")\n",
    "print(f\"Outcome model RMSE: {outcome_rmse:.4f}\")"
   ]
  },
  {
   "cell_type": "markdown",
   "metadata": {},
   "source": [
    "Can we see what the demand will change by if we change the price by £x?"
   ]
  },
  {
   "cell_type": "code",
   "execution_count": 52,
   "metadata": {},
   "outputs": [],
   "source": [
    "def predict_demand_with_price_change(treatment_model, effect_model, advertising_spend, holiday_season, competitor_price, current_price, price_change):\n",
    "    # Create covariates for the current situation\n",
    "    current_covariates = np.array([[advertising_spend, holiday_season, competitor_price]])\n",
    "    print(current_covariates)\n",
    "    # Predict the current price from covariates\n",
    "    predicted_current_price = treatment_model.predict(current_covariates)\n",
    "    print(predicted_current_price)\n",
    "    # Predict the residual demand with the current price\n",
    "    residual_demand_current = effect_model.predict(predicted_current_price.reshape(-1, 1))\n",
    "    print(residual_demand_current)\n",
    "    # New price scenario\n",
    "    new_price = current_price + price_change\n",
    "    print(new_price)\n",
    "    # Predict the new residual demand with the new price\n",
    "    predicted_new_price = np.array([[new_price]])\n",
    "    residual_demand_new = effect_model.predict(predicted_new_price)\n",
    "    print(residual_demand_new)\n",
    "    # Calculate the causal effect\n",
    "    causal_effect = residual_demand_new - residual_demand_current\n",
    "\n",
    "    return causal_effect"
   ]
  },
  {
   "cell_type": "code",
   "execution_count": 59,
   "metadata": {},
   "outputs": [
    {
     "name": "stdout",
     "output_type": "stream",
     "text": [
      "The estimated causal effect of changing the price by £1 is: 0.0000 units of demand.\n"
     ]
    },
    {
     "name": "stderr",
     "output_type": "stream",
     "text": [
      "/opt/miniconda3/envs/env_gal/lib/python3.10/site-packages/sklearn/base.py:493: UserWarning: X does not have valid feature names, but RandomForestRegressor was fitted with feature names\n",
      "  warnings.warn(\n"
     ]
    }
   ],
   "source": [
    "current_competitor_price = 1\n",
    "holiday_season_value = 1\n",
    "price_change = 1\n",
    "advertising_spend_value = 500  # Set an example advertising spend\n",
    "\n",
    "# Calculate causal effect of changing the price by £10\n",
    "causal_effect = predict_demand_with_price_change(treatment_model, effect_model, advertising_spend_value, holiday_season_value, current_competitor_price, current_price=10, price_change=price_change)\n",
    "\n",
    "print(f\"The estimated causal effect of changing the price by £{price_change} is: {causal_effect[0]:.4f} units of demand.\")"
   ]
  },
  {
   "cell_type": "code",
   "execution_count": null,
   "metadata": {},
   "outputs": [],
   "source": []
  }
 ],
 "metadata": {
  "kernelspec": {
   "display_name": "env_gal",
   "language": "python",
   "name": "env_gal"
  },
  "language_info": {
   "codemirror_mode": {
    "name": "ipython",
    "version": 3
   },
   "file_extension": ".py",
   "mimetype": "text/x-python",
   "name": "python",
   "nbconvert_exporter": "python",
   "pygments_lexer": "ipython3",
   "version": "3.10.8"
  }
 },
 "nbformat": 4,
 "nbformat_minor": 2
}
